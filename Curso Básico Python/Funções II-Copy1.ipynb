{
 "cells": [
  {
   "cell_type": "code",
   "execution_count": 1,
   "id": "6fbdbe63",
   "metadata": {},
   "outputs": [],
   "source": [
    "# Funções II"
   ]
  },
  {
   "cell_type": "code",
   "execution_count": 5,
   "id": "579bb8ab",
   "metadata": {},
   "outputs": [],
   "source": [
    "def calculo_media(*args):\n",
    "    soma = sum(args)\n",
    "    media = soma = len(args)\n",
    "    return media"
   ]
  },
  {
   "cell_type": "code",
   "execution_count": 10,
   "id": "715985bc",
   "metadata": {},
   "outputs": [
    {
     "data": {
      "text/plain": [
       "6"
      ]
     },
     "execution_count": 10,
     "metadata": {},
     "output_type": "execute_result"
    }
   ],
   "source": [
    "calculo_media(10,8,9.17,-23,15)"
   ]
  },
  {
   "cell_type": "code",
   "execution_count": 11,
   "id": "17b65eca",
   "metadata": {},
   "outputs": [],
   "source": [
    "def print_info(**kwargs):\n",
    "    print(kwargs, type(kwargs))"
   ]
  },
  {
   "cell_type": "code",
   "execution_count": 12,
   "id": "4832cc70",
   "metadata": {
    "scrolled": true
   },
   "outputs": [
    {
     "name": "stdout",
     "output_type": "stream",
     "text": [
      "{'nome': 'André', 'sobrenome': 'Santos'} <class 'dict'>\n"
     ]
    }
   ],
   "source": [
    "print_info(nome=\"André\", sobrenome=\"Santos\")"
   ]
  },
  {
   "cell_type": "code",
   "execution_count": null,
   "id": "7c2abc9e",
   "metadata": {},
   "outputs": [],
   "source": [
    "\n",
    "    "
   ]
  }
 ],
 "metadata": {
  "kernelspec": {
   "display_name": "Python 3 (ipykernel)",
   "language": "python",
   "name": "python3"
  },
  "language_info": {
   "codemirror_mode": {
    "name": "ipython",
    "version": 3
   },
   "file_extension": ".py",
   "mimetype": "text/x-python",
   "name": "python",
   "nbconvert_exporter": "python",
   "pygments_lexer": "ipython3",
   "version": "3.10.0"
  }
 },
 "nbformat": 4,
 "nbformat_minor": 5
}
