{
 "cells": [
  {
   "cell_type": "code",
   "execution_count": 1,
   "id": "dc8dfe7a",
   "metadata": {},
   "outputs": [],
   "source": [
    "# Dicionários"
   ]
  },
  {
   "cell_type": "code",
   "execution_count": 5,
   "id": "0296de37",
   "metadata": {},
   "outputs": [],
   "source": [
    "dados_cidade = {\n",
    "    \"nome\" : \"São Paulo\", \n",
    "    \"estado\": \"São Paulo\",\n",
    "    \"area_km2\": 1521,\n",
    "    \"populacao_milhoes\": 12.18,   \n",
    "    }"
   ]
  },
  {
   "cell_type": "code",
   "execution_count": 6,
   "id": "0e76c106",
   "metadata": {},
   "outputs": [
    {
     "name": "stdout",
     "output_type": "stream",
     "text": [
      "<class 'dict'>\n"
     ]
    }
   ],
   "source": [
    "print(type(dados_cidade))"
   ]
  },
  {
   "cell_type": "code",
   "execution_count": 7,
   "id": "94815231",
   "metadata": {},
   "outputs": [
    {
     "name": "stdout",
     "output_type": "stream",
     "text": [
      "{'nome': 'São Paulo', 'estado': 'São Paulo', 'area_km2': 1521, 'populacao_milhoes': 12.18}\n"
     ]
    }
   ],
   "source": [
    "print(dados_cidade)"
   ]
  },
  {
   "cell_type": "code",
   "execution_count": 8,
   "id": "fb0ec014",
   "metadata": {},
   "outputs": [],
   "source": [
    "dados_cidade[\"país\"] = \"Brasil\" # Add dados no dicionário"
   ]
  },
  {
   "cell_type": "code",
   "execution_count": 9,
   "id": "a8c076dd",
   "metadata": {},
   "outputs": [
    {
     "name": "stdout",
     "output_type": "stream",
     "text": [
      "{'nome': 'São Paulo', 'estado': 'São Paulo', 'area_km2': 1521, 'populacao_milhoes': 12.18, 'país': 'Brasil'}\n"
     ]
    }
   ],
   "source": [
    "print(dados_cidade)"
   ]
  },
  {
   "cell_type": "code",
   "execution_count": 10,
   "id": "86ffd05d",
   "metadata": {},
   "outputs": [
    {
     "name": "stdout",
     "output_type": "stream",
     "text": [
      "{'nome': 'São Paulo', 'estado': 'São Paulo', 'area_km2': 1500, 'populacao_milhoes': 12.18, 'país': 'Brasil'}\n"
     ]
    }
   ],
   "source": [
    "dados_cidade[\"area_km2\"] = 1500 # Att os dados do dicionário\n",
    "print(dados_cidade)"
   ]
  },
  {
   "cell_type": "code",
   "execution_count": 14,
   "id": "010fc66b",
   "metadata": {},
   "outputs": [],
   "source": [
    "dados_cidade2 = dados_cidade # Duplicando o dicionário"
   ]
  },
  {
   "cell_type": "code",
   "execution_count": 15,
   "id": "14a78872",
   "metadata": {},
   "outputs": [],
   "source": [
    "dados_cidade2[\"nome\"] = \"Santos\" # Tentativa de att um dado no dicionário duplicado"
   ]
  },
  {
   "cell_type": "code",
   "execution_count": 19,
   "id": "25c1c3dd",
   "metadata": {},
   "outputs": [
    {
     "name": "stdout",
     "output_type": "stream",
     "text": [
      "Dados cidade 2: {'nome': 'Santos', 'estado': 'São Paulo', 'area_km2': 1500, 'populacao_milhoes': 12.18, 'país': 'Brasil'}\n",
      "Dados cidade 1: {'nome': 'Santos', 'estado': 'São Paulo', 'area_km2': 1500, 'populacao_milhoes': 12.18, 'país': 'Brasil'}\n"
     ]
    }
   ],
   "source": [
    "print(\"Dados cidade 2:\", dados_cidades2)\n",
    "print(\"Dados cidade 1:\", dados_cidade)"
   ]
  },
  {
   "cell_type": "code",
   "execution_count": 20,
   "id": "4caecc4f",
   "metadata": {},
   "outputs": [],
   "source": [
    "dados_cidade3 = dados_cidade.copy()"
   ]
  },
  {
   "cell_type": "code",
   "execution_count": 21,
   "id": "ce00c67b",
   "metadata": {},
   "outputs": [],
   "source": [
    "dados_cidade3[\"estado\"] = \"Rio de Janeiro\""
   ]
  },
  {
   "cell_type": "code",
   "execution_count": 23,
   "id": "8058f609",
   "metadata": {},
   "outputs": [
    {
     "name": "stdout",
     "output_type": "stream",
     "text": [
      "{'nome': 'Santos', 'estado': 'São Paulo', 'area_km2': 1500, 'populacao_milhoes': 12.18, 'país': 'Brasil'}\n"
     ]
    }
   ],
   "source": [
    "print(dados_cidade)"
   ]
  },
  {
   "cell_type": "code",
   "execution_count": 26,
   "id": "f00a6a14",
   "metadata": {},
   "outputs": [
    {
     "name": "stdout",
     "output_type": "stream",
     "text": [
      "{'nome': 'São Paulo', 'estado': 'São Paulo', 'area_km2': 1500, 'populacao_milhoes': 15, 'país': 'Brasil', 'fundacao': '25/01/1554'}\n"
     ]
    }
   ],
   "source": [
    "novos_dados = {\n",
    "    \"nome\": \"São Paulo\",\n",
    "    \"populacao_milhoes\": 15,\n",
    "    \"fundacao\": \"25/01/1554\",\n",
    "}\n",
    "\n",
    "dados_cidade.update(novos_dados)\n",
    "print(dados_cidade)"
   ]
  },
  {
   "cell_type": "code",
   "execution_count": 27,
   "id": "f0654ea6",
   "metadata": {},
   "outputs": [
    {
     "name": "stdout",
     "output_type": "stream",
     "text": [
      "None\n"
     ]
    }
   ],
   "source": [
    "print(dados_cidade.get(\"prefeito\"))"
   ]
  },
  {
   "cell_type": "code",
   "execution_count": 29,
   "id": "b3c69755",
   "metadata": {},
   "outputs": [
    {
     "name": "stdout",
     "output_type": "stream",
     "text": [
      "dict_keys(['nome', 'estado', 'area_km2', 'populacao_milhoes', 'país', 'fundacao'])\n",
      "------\n",
      "dict_values(['São Paulo', 'São Paulo', 1500, 15, 'Brasil', '25/01/1554'])\n",
      "------\n",
      "dict_items([('nome', 'São Paulo'), ('estado', 'São Paulo'), ('area_km2', 1500), ('populacao_milhoes', 15), ('país', 'Brasil'), ('fundacao', '25/01/1554')])\n"
     ]
    }
   ],
   "source": [
    "print(dados_cidade.keys()) # Retorna uma lista de chaves de um dicionário\n",
    "print(\"------\")\n",
    "print(dados_cidade.values()) # Retorna uma lista de valores de um dicionário\n",
    "print(\"------\")\n",
    "print(dados_cidade.items()) # Retorna uma lista de tuplas (chave, valor) e um dicionário"
   ]
  },
  {
   "cell_type": "code",
   "execution_count": null,
   "id": "3fc0ecbe",
   "metadata": {},
   "outputs": [],
   "source": []
  }
 ],
 "metadata": {
  "kernelspec": {
   "display_name": "Python 3 (ipykernel)",
   "language": "python",
   "name": "python3"
  },
  "language_info": {
   "codemirror_mode": {
    "name": "ipython",
    "version": 3
   },
   "file_extension": ".py",
   "mimetype": "text/x-python",
   "name": "python",
   "nbconvert_exporter": "python",
   "pygments_lexer": "ipython3",
   "version": "3.10.0"
  }
 },
 "nbformat": 4,
 "nbformat_minor": 5
}
