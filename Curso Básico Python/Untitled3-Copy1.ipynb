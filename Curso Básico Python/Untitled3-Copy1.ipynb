{
 "cells": [
  {
   "cell_type": "code",
   "execution_count": 2,
   "id": "882f8b7b",
   "metadata": {},
   "outputs": [
    {
     "name": "stdout",
     "output_type": "stream",
     "text": [
      "['Brasil', 'Argentina', 'Chile', 'Eua', 'Japão']\n"
     ]
    }
   ],
   "source": [
    "nomes_paises = [\"Brasil\", \"Argentina\", \"Chile\", \"Eua\", \"Japão\"]\n",
    "print(nomes_paises)"
   ]
  },
  {
   "cell_type": "code",
   "execution_count": 10,
   "id": "e441fb15",
   "metadata": {},
   "outputs": [
    {
     "name": "stdout",
     "output_type": "stream",
     "text": [
      "Tamanho da lista:  5\n",
      "Brasil\n",
      "Japão\n",
      "Japão\n"
     ]
    }
   ],
   "source": [
    "nomes_paises = [\"Brasil\", \"Argentina\", \"Chile\", \"Eua\", \"Japão\"]\n",
    "print(\"Tamanho da lista: \", len(nomes_paises))\n",
    "print(nomes_paises[0])\n",
    "print(nomes_paises[4])\n",
    "print(nomes_paises[-1])"
   ]
  },
  {
   "cell_type": "code",
   "execution_count": 11,
   "id": "5ec95873",
   "metadata": {},
   "outputs": [],
   "source": [
    "nomes_paises[4] = \"Uruguai\""
   ]
  },
  {
   "cell_type": "code",
   "execution_count": 12,
   "id": "a56b8bb6",
   "metadata": {},
   "outputs": [
    {
     "name": "stdout",
     "output_type": "stream",
     "text": [
      "Uruguai\n"
     ]
    }
   ],
   "source": [
    "print(nomes_paises[4])"
   ]
  },
  {
   "cell_type": "code",
   "execution_count": 14,
   "id": "b2fc16be",
   "metadata": {},
   "outputs": [
    {
     "name": "stdout",
     "output_type": "stream",
     "text": [
      "['Argentina', 'Chile']\n",
      "['Chile', 'Eua', 'Uruguai']\n",
      "['Brasil', 'Argentina', 'Chile', 'Eua', 'Uruguai']\n",
      "['Brasil', 'Argentina', 'Chile']\n",
      "['Argentina', 'Chile']\n"
     ]
    }
   ],
   "source": [
    "print(nomes_paises[1:3])\n",
    "print(nomes_paises[2:])\n",
    "print(nomes_paises[:])\n",
    "print(nomes_paises[:3])\n",
    "print(nomes_paises[1:-2])"
   ]
  },
  {
   "cell_type": "code",
   "execution_count": 15,
   "id": "d44c4e1b",
   "metadata": {},
   "outputs": [
    {
     "name": "stdout",
     "output_type": "stream",
     "text": [
      "['Brasil', 'Chile', 'Uruguai']\n"
     ]
    }
   ],
   "source": [
    "print(nomes_paises[::2])"
   ]
  },
  {
   "cell_type": "code",
   "execution_count": 16,
   "id": "82a8c24c",
   "metadata": {},
   "outputs": [
    {
     "name": "stdout",
     "output_type": "stream",
     "text": [
      "['Uruguai', 'Chile', 'Brasil']\n"
     ]
    }
   ],
   "source": [
    "print(nomes_paises[::-2])"
   ]
  },
  {
   "cell_type": "code",
   "execution_count": 18,
   "id": "a9c370bb",
   "metadata": {},
   "outputs": [
    {
     "name": "stdout",
     "output_type": "stream",
     "text": [
      "['Uruguai', 'Eua', 'Chile', 'Argentina', 'Brasil']\n"
     ]
    }
   ],
   "source": [
    "print(nomes_paises[::-1])"
   ]
  },
  {
   "cell_type": "code",
   "execution_count": 19,
   "id": "aa773e3d",
   "metadata": {},
   "outputs": [
    {
     "name": "stdout",
     "output_type": "stream",
     "text": [
      "True\n"
     ]
    }
   ],
   "source": [
    "print(\"Brasil\" in nomes_paises)"
   ]
  },
  {
   "cell_type": "code",
   "execution_count": 20,
   "id": "472b90dc",
   "metadata": {},
   "outputs": [
    {
     "name": "stdout",
     "output_type": "stream",
     "text": [
      "False\n"
     ]
    }
   ],
   "source": [
    "print(\"Portugal\" in nomes_paises)"
   ]
  },
  {
   "cell_type": "code",
   "execution_count": 21,
   "id": "89e46fe2",
   "metadata": {},
   "outputs": [
    {
     "name": "stdout",
     "output_type": "stream",
     "text": [
      "['Brasília', 'Washington DC', 'Buenos Aires', 'Tóquio', 'Bruxelas']\n"
     ]
    }
   ],
   "source": [
    "lista_capitais = []\n",
    "\n",
    "lista_capitais.append(\"Brasília\")\n",
    "lista_capitais.append(\"Washington DC\")\n",
    "lista_capitais.append(\"Buenos Aires\")\n",
    "lista_capitais.append(\"Tóquio\")\n",
    "lista_capitais.append(\"Bruxelas\")\n",
    "\n",
    "print(lista_capitais)"
   ]
  },
  {
   "cell_type": "code",
   "execution_count": 23,
   "id": "ac36cf50",
   "metadata": {},
   "outputs": [
    {
     "name": "stdout",
     "output_type": "stream",
     "text": [
      "['Brasília', 'Washington DC', 'Paris', 'Buenos Aires', 'Tóquio', 'Bruxelas']\n"
     ]
    }
   ],
   "source": [
    "lista_capitais.insert(2, \"Paris\")\n",
    "print(lista_capitais)"
   ]
  },
  {
   "cell_type": "code",
   "execution_count": 24,
   "id": "e5103f08",
   "metadata": {},
   "outputs": [
    {
     "name": "stdout",
     "output_type": "stream",
     "text": [
      "['Brasília', 'Washington DC', 'Paris', 'Buenos Aires', 'Tóquio']\n"
     ]
    }
   ],
   "source": [
    "lista_capitais.remove(\"Bruxelas\")\n",
    "print(lista_capitais)"
   ]
  },
  {
   "cell_type": "code",
   "execution_count": null,
   "id": "759bb785",
   "metadata": {},
   "outputs": [],
   "source": [
    "removido = lista_capitais.pop(3)\n",
    "print(removido)"
   ]
  }
 ],
 "metadata": {
  "kernelspec": {
   "display_name": "Python 3 (ipykernel)",
   "language": "python",
   "name": "python3"
  },
  "language_info": {
   "codemirror_mode": {
    "name": "ipython",
    "version": 3
   },
   "file_extension": ".py",
   "mimetype": "text/x-python",
   "name": "python",
   "nbconvert_exporter": "python",
   "pygments_lexer": "ipython3",
   "version": "3.10.0"
  }
 },
 "nbformat": 4,
 "nbformat_minor": 5
}
