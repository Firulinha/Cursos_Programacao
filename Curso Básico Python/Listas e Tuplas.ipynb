{
 "cells": [
  {
   "cell_type": "code",
   "execution_count": 2,
   "id": "7cd92c8f",
   "metadata": {},
   "outputs": [
    {
     "name": "stdout",
     "output_type": "stream",
     "text": [
      "['Brasil', 'Argentina', 'Chile', 'Eua', 'Japão']\n"
     ]
    }
   ],
   "source": [
    "nomes_paises = [\"Brasil\", \"Argentina\", \"Chile\", \"Eua\", \"Japão\"]\n",
    "print(nomes_paises)"
   ]
  },
  {
   "cell_type": "code",
   "execution_count": 10,
   "id": "afdde0d7",
   "metadata": {},
   "outputs": [
    {
     "name": "stdout",
     "output_type": "stream",
     "text": [
      "Tamanho da lista:  5\n",
      "Brasil\n",
      "Japão\n",
      "Japão\n"
     ]
    }
   ],
   "source": [
    "nomes_paises = [\"Brasil\", \"Argentina\", \"Chile\", \"Eua\", \"Japão\"]\n",
    "print(\"Tamanho da lista: \", len(nomes_paises))\n",
    "print(nomes_paises[0])\n",
    "print(nomes_paises[4])\n",
    "print(nomes_paises[-1])"
   ]
  },
  {
   "cell_type": "code",
   "execution_count": 11,
   "id": "3eaa22c6",
   "metadata": {},
   "outputs": [],
   "source": [
    "nomes_paises[4] = \"Uruguai\""
   ]
  },
  {
   "cell_type": "code",
   "execution_count": 12,
   "id": "b2ad1bbf",
   "metadata": {},
   "outputs": [
    {
     "name": "stdout",
     "output_type": "stream",
     "text": [
      "Uruguai\n"
     ]
    }
   ],
   "source": [
    "print(nomes_paises[4])"
   ]
  },
  {
   "cell_type": "code",
   "execution_count": 14,
   "id": "cae077d8",
   "metadata": {},
   "outputs": [
    {
     "name": "stdout",
     "output_type": "stream",
     "text": [
      "['Argentina', 'Chile']\n",
      "['Chile', 'Eua', 'Uruguai']\n",
      "['Brasil', 'Argentina', 'Chile', 'Eua', 'Uruguai']\n",
      "['Brasil', 'Argentina', 'Chile']\n",
      "['Argentina', 'Chile']\n"
     ]
    }
   ],
   "source": [
    "print(nomes_paises[1:3])\n",
    "print(nomes_paises[2:])\n",
    "print(nomes_paises[:])\n",
    "print(nomes_paises[:3])\n",
    "print(nomes_paises[1:-2])"
   ]
  },
  {
   "cell_type": "code",
   "execution_count": 15,
   "id": "e05a865e",
   "metadata": {},
   "outputs": [
    {
     "name": "stdout",
     "output_type": "stream",
     "text": [
      "['Brasil', 'Chile', 'Uruguai']\n"
     ]
    }
   ],
   "source": [
    "print(nomes_paises[::2])"
   ]
  },
  {
   "cell_type": "code",
   "execution_count": 16,
   "id": "fc827d87",
   "metadata": {},
   "outputs": [
    {
     "name": "stdout",
     "output_type": "stream",
     "text": [
      "['Uruguai', 'Chile', 'Brasil']\n"
     ]
    }
   ],
   "source": [
    "print(nomes_paises[::-2])"
   ]
  },
  {
   "cell_type": "code",
   "execution_count": 18,
   "id": "53c1a02a",
   "metadata": {},
   "outputs": [
    {
     "name": "stdout",
     "output_type": "stream",
     "text": [
      "['Uruguai', 'Eua', 'Chile', 'Argentina', 'Brasil']\n"
     ]
    }
   ],
   "source": [
    "print(nomes_paises[::-1])"
   ]
  },
  {
   "cell_type": "code",
   "execution_count": 19,
   "id": "31a6a3bd",
   "metadata": {},
   "outputs": [
    {
     "name": "stdout",
     "output_type": "stream",
     "text": [
      "True\n"
     ]
    }
   ],
   "source": [
    "print(\"Brasil\" in nomes_paises)"
   ]
  },
  {
   "cell_type": "code",
   "execution_count": 20,
   "id": "38ceb287",
   "metadata": {},
   "outputs": [
    {
     "name": "stdout",
     "output_type": "stream",
     "text": [
      "False\n"
     ]
    }
   ],
   "source": [
    "print(\"Portugal\" in nomes_paises)"
   ]
  },
  {
   "cell_type": "code",
   "execution_count": 21,
   "id": "293cba3b",
   "metadata": {},
   "outputs": [
    {
     "name": "stdout",
     "output_type": "stream",
     "text": [
      "['Brasília', 'Washington DC', 'Buenos Aires', 'Tóquio', 'Bruxelas']\n"
     ]
    }
   ],
   "source": [
    "lista_capitais = []\n",
    "\n",
    "lista_capitais.append(\"Brasília\")\n",
    "lista_capitais.append(\"Washington DC\")\n",
    "lista_capitais.append(\"Buenos Aires\")\n",
    "lista_capitais.append(\"Tóquio\")\n",
    "lista_capitais.append(\"Bruxelas\")\n",
    "\n",
    "print(lista_capitais)"
   ]
  },
  {
   "cell_type": "code",
   "execution_count": 23,
   "id": "3ff22e42",
   "metadata": {},
   "outputs": [
    {
     "name": "stdout",
     "output_type": "stream",
     "text": [
      "['Brasília', 'Washington DC', 'Paris', 'Buenos Aires', 'Tóquio', 'Bruxelas']\n"
     ]
    }
   ],
   "source": [
    "lista_capitais.insert(2, \"Paris\")\n",
    "print(lista_capitais)"
   ]
  },
  {
   "cell_type": "code",
   "execution_count": 24,
   "id": "5063360b",
   "metadata": {},
   "outputs": [
    {
     "name": "stdout",
     "output_type": "stream",
     "text": [
      "['Brasília', 'Washington DC', 'Paris', 'Buenos Aires', 'Tóquio']\n"
     ]
    }
   ],
   "source": [
    "lista_capitais.remove(\"Bruxelas\")\n",
    "print(lista_capitais)"
   ]
  },
  {
   "cell_type": "code",
   "execution_count": 25,
   "id": "f81d325f",
   "metadata": {},
   "outputs": [
    {
     "name": "stdout",
     "output_type": "stream",
     "text": [
      "['Brasília', 'Washington DC', 'Paris', 'Tóquio'] Buenos Aires\n"
     ]
    }
   ],
   "source": [
    "removido = lista_capitais.pop(3)\n",
    "print(lista_capitais, removido)"
   ]
  },
  {
   "cell_type": "code",
   "execution_count": 26,
   "id": "48b25cb2",
   "metadata": {},
   "outputs": [],
   "source": [
    "#Tuplas"
   ]
  },
  {
   "cell_type": "code",
   "execution_count": 27,
   "id": "255f1d7b",
   "metadata": {},
   "outputs": [
    {
     "name": "stdout",
     "output_type": "stream",
     "text": [
      "('Brasil', 'Argentina', 'China', 'Portugal')\n"
     ]
    }
   ],
   "source": [
    "nomes_paises = (\"Brasil\", \"Argentina\", \"China\", \"Portugal\")\n",
    "print(nomes_paises)"
   ]
  },
  {
   "cell_type": "code",
   "execution_count": 28,
   "id": "9ee8ca6f",
   "metadata": {},
   "outputs": [
    {
     "name": "stdout",
     "output_type": "stream",
     "text": [
      "('Brasil', 'Argentina', 'China', 'Portugal') <class 'tuple'>\n"
     ]
    }
   ],
   "source": [
    "nomes_paises = \"Brasil\", \"Argentina\", \"China\", \"Portugal\"\n",
    "print(nomes_paises, type(nomes_paises))"
   ]
  },
  {
   "cell_type": "code",
   "execution_count": 29,
   "id": "999d7cc4",
   "metadata": {},
   "outputs": [
    {
     "data": {
      "text/plain": [
       "4"
      ]
     },
     "execution_count": 29,
     "metadata": {},
     "output_type": "execute_result"
    }
   ],
   "source": [
    "len(nomes_paises)"
   ]
  },
  {
   "cell_type": "code",
   "execution_count": 30,
   "id": "c10daecd",
   "metadata": {},
   "outputs": [
    {
     "data": {
      "text/plain": [
       "'Brasil'"
      ]
     },
     "execution_count": 30,
     "metadata": {},
     "output_type": "execute_result"
    }
   ],
   "source": [
    "nomes_paises[0]"
   ]
  },
  {
   "cell_type": "code",
   "execution_count": 32,
   "id": "064b7e34",
   "metadata": {},
   "outputs": [
    {
     "name": "stdout",
     "output_type": "stream",
     "text": [
      "Brasil Argentina China Portugal\n",
      "Brasil Portugal\n"
     ]
    }
   ],
   "source": [
    "a, b, c, d = nomes_paises\n",
    "print(a,b,c,d)\n",
    "print(a, d)"
   ]
  },
  {
   "cell_type": "code",
   "execution_count": 33,
   "id": "275d8109",
   "metadata": {},
   "outputs": [
    {
     "name": "stdout",
     "output_type": "stream",
     "text": [
      "Brasil Argentina China Portugal\n"
     ]
    }
   ],
   "source": [
    "print(*nomes_paises)"
   ]
  },
  {
   "cell_type": "code",
   "execution_count": null,
   "id": "0ec05638",
   "metadata": {},
   "outputs": [],
   "source": []
  },
  {
   "cell_type": "markdown",
   "id": "c180076e",
   "metadata": {},
   "source": [
    "# "
   ]
  }
 ],
 "metadata": {
  "kernelspec": {
   "display_name": "Python 3 (ipykernel)",
   "language": "python",
   "name": "python3"
  },
  "language_info": {
   "codemirror_mode": {
    "name": "ipython",
    "version": 3
   },
   "file_extension": ".py",
   "mimetype": "text/x-python",
   "name": "python",
   "nbconvert_exporter": "python",
   "pygments_lexer": "ipython3",
   "version": "3.10.0"
  }
 },
 "nbformat": 4,
 "nbformat_minor": 5
}
