{
 "cells": [
  {
   "cell_type": "code",
   "execution_count": 1,
   "id": "49400397",
   "metadata": {},
   "outputs": [],
   "source": [
    "#Strings I"
   ]
  },
  {
   "cell_type": "code",
   "execution_count": 3,
   "id": "def64e6a",
   "metadata": {
    "scrolled": true
   },
   "outputs": [
    {
     "name": "stdout",
     "output_type": "stream",
     "text": [
      "A frase tem  17 caracteres\n"
     ]
    }
   ],
   "source": [
    "frase = \"Azul a cor do mar\"\n",
    "tamanho = len(frase)\n",
    "print(\"A frase tem \",tamanho,\"caracteres\")"
   ]
  },
  {
   "cell_type": "code",
   "execution_count": 6,
   "id": "dcb0f2f3",
   "metadata": {},
   "outputs": [
    {
     "name": "stdout",
     "output_type": "stream",
     "text": [
      "A\n",
      "z\n",
      "u\n",
      "l\n",
      " \n",
      "a\n",
      " \n",
      "c\n",
      "o\n",
      "r\n"
     ]
    }
   ],
   "source": [
    "print(frase[0])\n",
    "print(frase[1])\n",
    "print(frase[2])\n",
    "print(frase[3])\n",
    "print(frase[4])\n",
    "print(frase[5])\n",
    "print(frase[6])\n",
    "print(frase[7])\n",
    "print(frase[8])\n",
    "print(frase[9])"
   ]
  },
  {
   "cell_type": "code",
   "execution_count": null,
   "id": "8e7a5453",
   "metadata": {},
   "outputs": [],
   "source": [
    "texto = \"O professor da Let's code disse: \"Amanhã haverá aula\""
   ]
  }
 ],
 "metadata": {
  "kernelspec": {
   "display_name": "Python 3 (ipykernel)",
   "language": "python",
   "name": "python3"
  },
  "language_info": {
   "codemirror_mode": {
    "name": "ipython",
    "version": 3
   },
   "file_extension": ".py",
   "mimetype": "text/x-python",
   "name": "python",
   "nbconvert_exporter": "python",
   "pygments_lexer": "ipython3",
   "version": "3.10.0"
  }
 },
 "nbformat": 4,
 "nbformat_minor": 5
}
