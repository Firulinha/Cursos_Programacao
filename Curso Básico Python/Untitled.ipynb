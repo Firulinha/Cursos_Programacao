{
 "cells": [
  {
   "cell_type": "code",
   "execution_count": 4,
   "id": "89555703",
   "metadata": {},
   "outputs": [
    {
     "name": "stdout",
     "output_type": "stream",
     "text": [
      "Note: you may need to restart the kernel to use updated packages.\n"
     ]
    },
    {
     "name": "stderr",
     "output_type": "stream",
     "text": [
      "ERROR: Could not find a version that satisfies the requirement PIL (from versions: none)\n",
      "ERROR: No matching distribution found for PIL\n",
      "WARNING: You are using pip version 21.2.3; however, version 21.3.1 is available.\n",
      "You should consider upgrading via the 'C:\\Users\\osmar\\AppData\\Local\\Programs\\Python\\Python310\\python.exe -m pip install --upgrade pip' command.\n"
     ]
    }
   ],
   "source": [
    "pip install PIL"
   ]
  },
  {
   "cell_type": "code",
   "execution_count": 7,
   "id": "c75251ce",
   "metadata": {},
   "outputs": [
    {
     "name": "stdout",
     "output_type": "stream",
     "text": [
      "Requirement already satisfied: jupyter in c:\\users\\osmar\\appdata\\local\\programs\\python\\python310\\lib\\site-packages (1.0.0)\n",
      "Requirement already satisfied: ipywidgets in c:\\users\\osmar\\appdata\\local\\programs\\python\\python310\\lib\\site-packages (from jupyter) (7.6.5)\n",
      "Requirement already satisfied: nbconvert in c:\\users\\osmar\\appdata\\local\\programs\\python\\python310\\lib\\site-packages (from jupyter) (6.3.0)\n",
      "Requirement already satisfied: ipykernel in c:\\users\\osmar\\appdata\\local\\programs\\python\\python310\\lib\\site-packages (from jupyter) (6.5.1)\n",
      "Requirement already satisfied: notebook in c:\\users\\osmar\\appdata\\local\\programs\\python\\python310\\lib\\site-packages (from jupyter) (6.4.6)\n",
      "Requirement already satisfied: qtconsole in c:\\users\\osmar\\appdata\\local\\programs\\python\\python310\\lib\\site-packages (from jupyter) (5.2.1)\n",
      "Requirement already satisfied: jupyter-console in c:\\users\\osmar\\appdata\\local\\programs\\python\\python310\\lib\\site-packages (from jupyter) (6.4.0)\n",
      "Requirement already satisfied: debugpy<2.0,>=1.0.0 in c:\\users\\osmar\\appdata\\local\\programs\\python\\python310\\lib\\site-packages (from ipykernel->jupyter) (1.5.1)\n",
      "Requirement already satisfied: matplotlib-inline<0.2.0,>=0.1.0 in c:\\users\\osmar\\appdata\\local\\programs\\python\\python310\\lib\\site-packages (from ipykernel->jupyter) (0.1.3)\n",
      "Requirement already satisfied: ipython>=7.23.1 in c:\\users\\osmar\\appdata\\local\\programs\\python\\python310\\lib\\site-packages (from ipykernel->jupyter) (7.29.0)\n",
      "Requirement already satisfied: tornado<7.0,>=4.2 in c:\\users\\osmar\\appdata\\local\\programs\\python\\python310\\lib\\site-packages (from ipykernel->jupyter) (6.1)\n",
      "Requirement already satisfied: jupyter-client<8.0 in c:\\users\\osmar\\appdata\\local\\programs\\python\\python310\\lib\\site-packages (from ipykernel->jupyter) (7.1.0)\n",
      "Requirement already satisfied: traitlets<6.0,>=5.1.0 in c:\\users\\osmar\\appdata\\local\\programs\\python\\python310\\lib\\site-packages (from ipykernel->jupyter) (5.1.1)\n",
      "Requirement already satisfied: jedi>=0.16 in c:\\users\\osmar\\appdata\\local\\programs\\python\\python310\\lib\\site-packages (from ipython>=7.23.1->ipykernel->jupyter) (0.18.1)\n",
      "Requirement already satisfied: prompt-toolkit!=3.0.0,!=3.0.1,<3.1.0,>=2.0.0 in c:\\users\\osmar\\appdata\\local\\programs\\python\\python310\\lib\\site-packages (from ipython>=7.23.1->ipykernel->jupyter) (3.0.22)\n",
      "Requirement already satisfied: pygments in c:\\users\\osmar\\appdata\\local\\programs\\python\\python310\\lib\\site-packages (from ipython>=7.23.1->ipykernel->jupyter) (2.10.0)\n",
      "Requirement already satisfied: decorator in c:\\users\\osmar\\appdata\\local\\programs\\python\\python310\\lib\\site-packages (from ipython>=7.23.1->ipykernel->jupyter) (5.1.0)\n",
      "Requirement already satisfied: pickleshare in c:\\users\\osmar\\appdata\\local\\programs\\python\\python310\\lib\\site-packages (from ipython>=7.23.1->ipykernel->jupyter) (0.7.5)\n",
      "Requirement already satisfied: setuptools>=18.5 in c:\\users\\osmar\\appdata\\local\\programs\\python\\python310\\lib\\site-packages (from ipython>=7.23.1->ipykernel->jupyter) (57.4.0)\n",
      "Requirement already satisfied: colorama in c:\\users\\osmar\\appdata\\local\\programs\\python\\python310\\lib\\site-packages (from ipython>=7.23.1->ipykernel->jupyter) (0.4.4)\n",
      "Requirement already satisfied: backcall in c:\\users\\osmar\\appdata\\local\\programs\\python\\python310\\lib\\site-packages (from ipython>=7.23.1->ipykernel->jupyter) (0.2.0)\n",
      "Requirement already satisfied: parso<0.9.0,>=0.8.0 in c:\\users\\osmar\\appdata\\local\\programs\\python\\python310\\lib\\site-packages (from jedi>=0.16->ipython>=7.23.1->ipykernel->jupyter) (0.8.2)\n",
      "Requirement already satisfied: nest-asyncio>=1.5 in c:\\users\\osmar\\appdata\\local\\programs\\python\\python310\\lib\\site-packages (from jupyter-client<8.0->ipykernel->jupyter) (1.5.1)\n",
      "Requirement already satisfied: pyzmq>=13 in c:\\users\\osmar\\appdata\\local\\programs\\python\\python310\\lib\\site-packages (from jupyter-client<8.0->ipykernel->jupyter) (22.3.0)\n",
      "Requirement already satisfied: python-dateutil>=2.1 in c:\\users\\osmar\\appdata\\local\\programs\\python\\python310\\lib\\site-packages (from jupyter-client<8.0->ipykernel->jupyter) (2.8.2)\n",
      "Requirement already satisfied: jupyter-core>=4.6.0 in c:\\users\\osmar\\appdata\\local\\programs\\python\\python310\\lib\\site-packages (from jupyter-client<8.0->ipykernel->jupyter) (4.9.1)\n",
      "Requirement already satisfied: entrypoints in c:\\users\\osmar\\appdata\\local\\programs\\python\\python310\\lib\\site-packages (from jupyter-client<8.0->ipykernel->jupyter) (0.3)\n",
      "Requirement already satisfied: pywin32>=1.0 in c:\\users\\osmar\\appdata\\local\\programs\\python\\python310\\lib\\site-packages (from jupyter-core>=4.6.0->jupyter-client<8.0->ipykernel->jupyter) (302)\n",
      "Requirement already satisfied: wcwidth in c:\\users\\osmar\\appdata\\local\\programs\\python\\python310\\lib\\site-packages (from prompt-toolkit!=3.0.0,!=3.0.1,<3.1.0,>=2.0.0->ipython>=7.23.1->ipykernel->jupyter) (0.2.5)\n",
      "Requirement already satisfied: six>=1.5 in c:\\users\\osmar\\appdata\\local\\programs\\python\\python310\\lib\\site-packages (from python-dateutil>=2.1->jupyter-client<8.0->ipykernel->jupyter) (1.16.0)\n",
      "Requirement already satisfied: nbformat>=4.2.0 in c:\\users\\osmar\\appdata\\local\\programs\\python\\python310\\lib\\site-packages (from ipywidgets->jupyter) (5.1.3)\n",
      "Requirement already satisfied: ipython-genutils~=0.2.0 in c:\\users\\osmar\\appdata\\local\\programs\\python\\python310\\lib\\site-packages (from ipywidgets->jupyter) (0.2.0)\n",
      "Requirement already satisfied: jupyterlab-widgets>=1.0.0 in c:\\users\\osmar\\appdata\\local\\programs\\python\\python310\\lib\\site-packages (from ipywidgets->jupyter) (1.0.2)\n",
      "Requirement already satisfied: widgetsnbextension~=3.5.0 in c:\\users\\osmar\\appdata\\local\\programs\\python\\python310\\lib\\site-packages (from ipywidgets->jupyter) (3.5.2)\n",
      "Requirement already satisfied: jsonschema!=2.5.0,>=2.4 in c:\\users\\osmar\\appdata\\local\\programs\\python\\python310\\lib\\site-packages (from nbformat>=4.2.0->ipywidgets->jupyter) (4.2.1)\n",
      "Requirement already satisfied: pyrsistent!=0.17.0,!=0.17.1,!=0.17.2,>=0.14.0 in c:\\users\\osmar\\appdata\\local\\programs\\python\\python310\\lib\\site-packages (from jsonschema!=2.5.0,>=2.4->nbformat>=4.2.0->ipywidgets->jupyter) (0.18.0)\n",
      "Requirement already satisfied: attrs>=17.4.0 in c:\\users\\osmar\\appdata\\local\\programs\\python\\python310\\lib\\site-packages (from jsonschema!=2.5.0,>=2.4->nbformat>=4.2.0->ipywidgets->jupyter) (21.2.0)\n",
      "Requirement already satisfied: Send2Trash>=1.8.0 in c:\\users\\osmar\\appdata\\local\\programs\\python\\python310\\lib\\site-packages (from notebook->jupyter) (1.8.0)\n",
      "Requirement already satisfied: prometheus-client in c:\\users\\osmar\\appdata\\local\\programs\\python\\python310\\lib\\site-packages (from notebook->jupyter) (0.12.0)\n",
      "Requirement already satisfied: jinja2 in c:\\users\\osmar\\appdata\\local\\programs\\python\\python310\\lib\\site-packages (from notebook->jupyter) (3.0.3)\n",
      "Requirement already satisfied: argon2-cffi in c:\\users\\osmar\\appdata\\local\\programs\\python\\python310\\lib\\site-packages (from notebook->jupyter) (21.1.0)\n",
      "Requirement already satisfied: terminado>=0.8.3 in c:\\users\\osmar\\appdata\\local\\programs\\python\\python310\\lib\\site-packages (from notebook->jupyter) (0.12.1)\n",
      "Requirement already satisfied: pywinpty>=1.1.0 in c:\\users\\osmar\\appdata\\local\\programs\\python\\python310\\lib\\site-packages (from terminado>=0.8.3->notebook->jupyter) (1.1.6)\n",
      "Requirement already satisfied: cffi>=1.0.0 in c:\\users\\osmar\\appdata\\local\\programs\\python\\python310\\lib\\site-packages (from argon2-cffi->notebook->jupyter) (1.15.0)\n",
      "Requirement already satisfied: pycparser in c:\\users\\osmar\\appdata\\local\\programs\\python\\python310\\lib\\site-packages (from cffi>=1.0.0->argon2-cffi->notebook->jupyter) (2.21)\n",
      "Requirement already satisfied: MarkupSafe>=2.0 in c:\\users\\osmar\\appdata\\local\\programs\\python\\python310\\lib\\site-packages (from jinja2->notebook->jupyter) (2.0.1)\n",
      "Requirement already satisfied: testpath in c:\\users\\osmar\\appdata\\local\\programs\\python\\python310\\lib\\site-packages (from nbconvert->jupyter) (0.5.0)\n",
      "Requirement already satisfied: pandocfilters>=1.4.1 in c:\\users\\osmar\\appdata\\local\\programs\\python\\python310\\lib\\site-packages (from nbconvert->jupyter) (1.5.0)\n",
      "Requirement already satisfied: jupyterlab-pygments in c:\\users\\osmar\\appdata\\local\\programs\\python\\python310\\lib\\site-packages (from nbconvert->jupyter) (0.1.2)\n",
      "Requirement already satisfied: bleach in c:\\users\\osmar\\appdata\\local\\programs\\python\\python310\\lib\\site-packages (from nbconvert->jupyter) (4.1.0)\n",
      "Requirement already satisfied: mistune<2,>=0.8.1 in c:\\users\\osmar\\appdata\\local\\programs\\python\\python310\\lib\\site-packages (from nbconvert->jupyter) (0.8.4)\n",
      "Requirement already satisfied: nbclient<0.6.0,>=0.5.0 in c:\\users\\osmar\\appdata\\local\\programs\\python\\python310\\lib\\site-packages (from nbconvert->jupyter) (0.5.9)\n",
      "Requirement already satisfied: defusedxml in c:\\users\\osmar\\appdata\\local\\programs\\python\\python310\\lib\\site-packages (from nbconvert->jupyter) (0.7.1)\n",
      "Requirement already satisfied: packaging in c:\\users\\osmar\\appdata\\local\\programs\\python\\python310\\lib\\site-packages (from bleach->nbconvert->jupyter) (21.3)\n",
      "Requirement already satisfied: webencodings in c:\\users\\osmar\\appdata\\local\\programs\\python\\python310\\lib\\site-packages (from bleach->nbconvert->jupyter) (0.5.1)\n",
      "Requirement already satisfied: pyparsing!=3.0.5,>=2.0.2 in c:\\users\\osmar\\appdata\\local\\programs\\python\\python310\\lib\\site-packages (from packaging->bleach->nbconvert->jupyter) (3.0.6)\n",
      "Requirement already satisfied: qtpy in c:\\users\\osmar\\appdata\\local\\programs\\python\\python310\\lib\\site-packages (from qtconsole->jupyter) (1.11.2)\n",
      "Note: you may need to restart the kernel to use updated packages.\n"
     ]
    },
    {
     "name": "stderr",
     "output_type": "stream",
     "text": [
      "WARNING: You are using pip version 21.2.3; however, version 21.3.1 is available.\n",
      "You should consider upgrading via the 'C:\\Users\\osmar\\AppData\\Local\\Programs\\Python\\Python310\\python.exe -m pip install --upgrade pip' command.\n"
     ]
    }
   ],
   "source": [
    "pip install -U jupyter"
   ]
  },
  {
   "cell_type": "code",
   "execution_count": null,
   "id": "77e6ef37",
   "metadata": {},
   "outputs": [],
   "source": []
  }
 ],
 "metadata": {
  "kernelspec": {
   "display_name": "Python 3 (ipykernel)",
   "language": "python",
   "name": "python3"
  },
  "language_info": {
   "codemirror_mode": {
    "name": "ipython",
    "version": 3
   },
   "file_extension": ".py",
   "mimetype": "text/x-python",
   "name": "python",
   "nbconvert_exporter": "python",
   "pygments_lexer": "ipython3",
   "version": "3.10.0"
  }
 },
 "nbformat": 4,
 "nbformat_minor": 5
}
