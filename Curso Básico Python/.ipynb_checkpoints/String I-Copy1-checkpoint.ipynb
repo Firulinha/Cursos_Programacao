{
 "cells": [
  {
   "cell_type": "code",
   "execution_count": 1,
   "id": "dd9d2fb3",
   "metadata": {},
   "outputs": [],
   "source": [
    "#Strings I"
   ]
  },
  {
   "cell_type": "code",
   "execution_count": 3,
   "id": "508c4fd1",
   "metadata": {
    "scrolled": true
   },
   "outputs": [
    {
     "name": "stdout",
     "output_type": "stream",
     "text": [
      "A frase tem  17 caracteres\n"
     ]
    }
   ],
   "source": [
    "frase = \"Azul a cor do mar\"\n",
    "tamanho = len(frase)\n",
    "print(\"A frase tem \",tamanho,\"caracteres\")"
   ]
  },
  {
   "cell_type": "code",
   "execution_count": 6,
   "id": "15992650",
   "metadata": {},
   "outputs": [
    {
     "name": "stdout",
     "output_type": "stream",
     "text": [
      "A\n",
      "z\n",
      "u\n",
      "l\n",
      " \n",
      "a\n",
      " \n",
      "c\n",
      "o\n",
      "r\n"
     ]
    }
   ],
   "source": [
    "print(frase[0])\n",
    "print(frase[1])\n",
    "print(frase[2])\n",
    "print(frase[3])\n",
    "print(frase[4])\n",
    "print(frase[5])\n",
    "print(frase[6])\n",
    "print(frase[7])\n",
    "print(frase[8])\n",
    "print(frase[9])"
   ]
  },
  {
   "cell_type": "code",
   "execution_count": 9,
   "id": "0802cf3f",
   "metadata": {},
   "outputs": [
    {
     "name": "stdout",
     "output_type": "stream",
     "text": [
      "Azul a cor do\n"
     ]
    }
   ],
   "source": [
    "print(frase[:13])"
   ]
  },
  {
   "cell_type": "code",
   "execution_count": 10,
   "id": "c7df1dd6",
   "metadata": {},
   "outputs": [
    {
     "name": "stdout",
     "output_type": "stream",
     "text": [
      "O professor da Let's code disse: \"Amanhã haverá aula\"\n"
     ]
    }
   ],
   "source": [
    "texto = \"O professor da Let's code disse: \\\"Amanhã haverá aula\\\"\"\n",
    "print(texto)\n",
    "#Utilizar a contra barra para não dar pane"
   ]
  },
  {
   "cell_type": "code",
   "execution_count": 14,
   "id": "5a706201",
   "metadata": {},
   "outputs": [
    {
     "name": "stdout",
     "output_type": "stream",
     "text": [
      "['São Paulo', 'Rio de Janeiro', 'Cuiabá', 'Porto Alegre']\n",
      "São Paulo\n",
      "Rio de Janeiro\n",
      "Cuiabá\n"
     ]
    }
   ],
   "source": [
    "nomes_cidades = (\"São Paulo, Rio de Janeiro, Cuiabá, Porto Alegre\")\n",
    "nomes_cidades = nomes_cidades.split(', ')\n",
    "print(nomes_cidades)\n",
    "print(nomes_cidades[0])\n",
    "print(nomes_cidades[1])\n",
    "print(nomes_cidades[2])\n"
   ]
  },
  {
   "cell_type": "code",
   "execution_count": 15,
   "id": "25abfae0",
   "metadata": {},
   "outputs": [
    {
     "name": "stdout",
     "output_type": "stream",
     "text": [
      "Menu Principal\n"
     ]
    }
   ],
   "source": [
    "cabecalho = \"              Menu Principal         \"\n",
    "print(cabecalho.strip())#Retirou o excesso de espaços."
   ]
  },
  {
   "cell_type": "code",
   "execution_count": 16,
   "id": "007a9a93",
   "metadata": {},
   "outputs": [
    {
     "name": "stdout",
     "output_type": "stream",
     "text": [
      "Rio De Janeiro\n",
      "Rio de janeiro\n",
      "rio de janeiro\n",
      "RIO DE JANEIRO\n"
     ]
    }
   ],
   "source": [
    "nome_cidade = \"rIo DE JaNEIro\"\n",
    "print(nome_cidade.title()) # Rio De Janeiro\n",
    "print(nome_cidade.capitalize()) # Rio de janeiro\n",
    "print(nome_cidade.lower()) # rio de janeiro\n",
    "print(nome_cidade.upper()) # RIO DE JANEIRO"
   ]
  },
  {
   "cell_type": "code",
   "execution_count": 25,
   "id": "b887d06b",
   "metadata": {},
   "outputs": [
    {
     "name": "stdout",
     "output_type": "stream",
     "text": [
      "Que cidade do Brasil é conhecida como cidade maravilhosa?rio de janeiro\n",
      "Parabéns, resposta correta.\n"
     ]
    }
   ],
   "source": [
    "nome_cidade = input(\"Que cidade do Brasil é conhecida como cidade maravilhosa?\")\n",
    "nome_cidade = nome_cidade.strip()\n",
    "while nome_cidade.lower() != \"rio de janeiro\":\n",
    "    print(\"Tente de novo.\")\n",
    "    nome_cidade = input(\"Que cidade do Brasil é conhecida como cidade maravilhosa?\") \n",
    "    \n",
    "print(\"Parabéns, resposta correta.\")"
   ]
  },
  {
   "cell_type": "code",
   "execution_count": 26,
   "id": "4429789c",
   "metadata": {},
   "outputs": [
    {
     "name": "stdout",
     "output_type": "stream",
     "text": [
      "True\n"
     ]
    }
   ],
   "source": [
    "mensagem = \"Você viu o que foi dito ontem\"\n",
    "fui_citado = \"dito\" in mensagem\n",
    "print(fui_citado)"
   ]
  },
  {
   "cell_type": "code",
   "execution_count": null,
   "id": "d8ebb5cf",
   "metadata": {},
   "outputs": [],
   "source": []
  },
  {
   "cell_type": "code",
   "execution_count": null,
   "id": "f93349e0",
   "metadata": {},
   "outputs": [],
   "source": []
  }
 ],
 "metadata": {
  "kernelspec": {
   "display_name": "Python 3 (ipykernel)",
   "language": "python",
   "name": "python3"
  },
  "language_info": {
   "codemirror_mode": {
    "name": "ipython",
    "version": 3
   },
   "file_extension": ".py",
   "mimetype": "text/x-python",
   "name": "python",
   "nbconvert_exporter": "python",
   "pygments_lexer": "ipython3",
   "version": "3.10.0"
  }
 },
 "nbformat": 4,
 "nbformat_minor": 5
}
