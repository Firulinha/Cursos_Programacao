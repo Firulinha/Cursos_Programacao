{
 "cells": [
  {
   "cell_type": "code",
   "execution_count": null,
   "id": "08fbc0f3",
   "metadata": {},
   "outputs": [],
   "source": [
    "#Strings II"
   ]
  },
  {
   "cell_type": "code",
   "execution_count": 2,
   "id": "d17990d8",
   "metadata": {},
   "outputs": [
    {
     "name": "stdout",
     "output_type": "stream",
     "text": [
      "Olá, Fernanda\n"
     ]
    }
   ],
   "source": [
    "palavra1 = \"Olá, \"\n",
    "palavra2 = \"Fernanda\"\n",
    "print(palavra1 + palavra2)"
   ]
  },
  {
   "cell_type": "code",
   "execution_count": 4,
   "id": "793b539a",
   "metadata": {},
   "outputs": [
    {
     "name": "stdout",
     "output_type": "stream",
     "text": [
      "FernandaFernandaFernanda\n"
     ]
    }
   ],
   "source": [
    "print(palavra2* 3)"
   ]
  },
  {
   "cell_type": "code",
   "execution_count": 8,
   "id": "0a8a7600",
   "metadata": {},
   "outputs": [
    {
     "name": "stdout",
     "output_type": "stream",
     "text": [
      "Carlos tem 24 anos e 0 filhos.\n"
     ]
    }
   ],
   "source": [
    "nome = \"Carlos\"\n",
    "idade = 24\n",
    "n_filhos = 0\n",
    "print(nome + \" tem \" + str(idade) + \" anos e \" + str(n_filhos) + \" filhos.\")"
   ]
  },
  {
   "cell_type": "code",
   "execution_count": 10,
   "id": "b0c21d8f",
   "metadata": {},
   "outputs": [
    {
     "name": "stdout",
     "output_type": "stream",
     "text": [
      "Carlos tem 24 anos e 0 filhos\n"
     ]
    }
   ],
   "source": [
    "print(\"{} tem {} anos e {} filhos\".format(nome,idade,n_filhos))"
   ]
  },
  {
   "cell_type": "code",
   "execution_count": 12,
   "id": "6d212967",
   "metadata": {},
   "outputs": [
    {
     "name": "stdout",
     "output_type": "stream",
     "text": [
      "Carlos tem 24 anos e 0 filhos\n"
     ]
    }
   ],
   "source": [
    "print(f\"{nome} tem {idade} anos e {n_filhos} filhos\")"
   ]
  },
  {
   "cell_type": "code",
   "execution_count": 11,
   "id": "81a1cfaf",
   "metadata": {},
   "outputs": [
    {
     "name": "stdout",
     "output_type": "stream",
     "text": [
      "O preço da gasolina hoje subiu e está em R$ 6.60\n"
     ]
    }
   ],
   "source": [
    "preco_gasolina = 6.599\n",
    "print(\"O preço da gasolina hoje subiu e está em R$ {:.2f}\".format(preco_gasolina))"
   ]
  }
 ],
 "metadata": {
  "kernelspec": {
   "display_name": "Python 3 (ipykernel)",
   "language": "python",
   "name": "python3"
  },
  "language_info": {
   "codemirror_mode": {
    "name": "ipython",
    "version": 3
   },
   "file_extension": ".py",
   "mimetype": "text/x-python",
   "name": "python",
   "nbconvert_exporter": "python",
   "pygments_lexer": "ipython3",
   "version": "3.10.0"
  }
 },
 "nbformat": 4,
 "nbformat_minor": 5
}
